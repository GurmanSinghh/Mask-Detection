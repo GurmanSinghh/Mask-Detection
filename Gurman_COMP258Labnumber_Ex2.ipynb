{
 "cells": [
  {
   "cell_type": "code",
   "execution_count": 1,
   "id": "21de0b65",
   "metadata": {},
   "outputs": [
    {
     "name": "stdout",
     "output_type": "stream",
     "text": [
      "Found 8834 images belonging to 2 classes.\n",
      "Found 2208 images belonging to 2 classes.\n",
      "Epoch 1/10\n",
      "277/277 [==============================] - 52s 187ms/step - loss: 0.1997 - accuracy: 0.9300 - val_loss: 0.1290 - val_accuracy: 0.9493\n",
      "Epoch 2/10\n",
      "277/277 [==============================] - 53s 191ms/step - loss: 0.0972 - accuracy: 0.9666 - val_loss: 0.0950 - val_accuracy: 0.9719\n",
      "Epoch 3/10\n",
      "277/277 [==============================] - 53s 193ms/step - loss: 0.0603 - accuracy: 0.9785 - val_loss: 0.0780 - val_accuracy: 0.9769\n",
      "Epoch 4/10\n",
      "277/277 [==============================] - 54s 194ms/step - loss: 0.0409 - accuracy: 0.9851 - val_loss: 0.1021 - val_accuracy: 0.9656\n",
      "Epoch 5/10\n",
      "277/277 [==============================] - 54s 196ms/step - loss: 0.0313 - accuracy: 0.9887 - val_loss: 0.1125 - val_accuracy: 0.9724\n",
      "Epoch 6/10\n",
      "277/277 [==============================] - 54s 195ms/step - loss: 0.0224 - accuracy: 0.9920 - val_loss: 0.1160 - val_accuracy: 0.9733\n",
      "Epoch 7/10\n",
      "277/277 [==============================] - 54s 195ms/step - loss: 0.0259 - accuracy: 0.9922 - val_loss: 0.1201 - val_accuracy: 0.9701\n",
      "Epoch 8/10\n",
      "277/277 [==============================] - 54s 194ms/step - loss: 0.0167 - accuracy: 0.9952 - val_loss: 0.0956 - val_accuracy: 0.9832\n",
      "Epoch 9/10\n",
      "277/277 [==============================] - 54s 194ms/step - loss: 0.0138 - accuracy: 0.9954 - val_loss: 0.1642 - val_accuracy: 0.9678\n",
      "Epoch 10/10\n",
      "277/277 [==============================] - 55s 197ms/step - loss: 0.0117 - accuracy: 0.9968 - val_loss: 0.1115 - val_accuracy: 0.9828\n",
      "69/69 [==============================] - 4s 54ms/step - loss: 0.1115 - accuracy: 0.9828\n",
      "Test Accuracy: 0.9827898740768433\n"
     ]
    },
    {
     "name": "stderr",
     "output_type": "stream",
     "text": [
      "/Users/gurman/anaconda3/lib/python3.10/site-packages/keras/src/engine/training.py:3079: UserWarning: You are saving your model as an HDF5 file via `model.save()`. This file format is considered legacy. We recommend using instead the native Keras format, e.g. `model.save('my_model.keras')`.\n",
      "  saving_api.save_model(\n"
     ]
    }
   ],
   "source": [
    "import tensorflow as tf\n",
    "from tensorflow.keras import layers, models\n",
    "from tensorflow.keras.preprocessing.image import ImageDataGenerator\n",
    "\n",
    "# Define paths\n",
    "train_data_dir = 'Dataset'\n",
    "train_datagen = ImageDataGenerator(rescale=1./255, validation_split=0.2)\n",
    "\n",
    "# Create train and validation generators\n",
    "train_generator = train_datagen.flow_from_directory(\n",
    "    train_data_dir,\n",
    "    target_size=(150, 150),\n",
    "    batch_size=32,\n",
    "    class_mode='binary',\n",
    "    subset='training'\n",
    ")\n",
    "\n",
    "validation_generator = train_datagen.flow_from_directory(\n",
    "    train_data_dir,\n",
    "    target_size=(150, 150),\n",
    "    batch_size=32,\n",
    "    class_mode='binary',\n",
    "    subset='validation'\n",
    ")\n",
    "\n",
    "# Build the CNN model\n",
    "model = models.Sequential()\n",
    "model.add(layers.Conv2D(32, (3, 3), activation='relu', input_shape=(150, 150, 3)))\n",
    "model.add(layers.MaxPooling2D((2, 2)))\n",
    "model.add(layers.Conv2D(64, (3, 3), activation='relu'))\n",
    "model.add(layers.MaxPooling2D((2, 2)))\n",
    "model.add(layers.Conv2D(128, (3, 3), activation='relu'))\n",
    "model.add(layers.MaxPooling2D((2, 2)))\n",
    "model.add(layers.Flatten())\n",
    "model.add(layers.Dense(128, activation='relu'))\n",
    "model.add(layers.Dense(1, activation='sigmoid'))\n",
    "\n",
    "# Compile the model\n",
    "model.compile(optimizer='adam', loss='binary_crossentropy', metrics=['accuracy'])\n",
    "\n",
    "# Train the model\n",
    "history = model.fit(\n",
    "    train_generator,\n",
    "    epochs=10,\n",
    "    validation_data=validation_generator\n",
    ")\n",
    "\n",
    "# Evaluate the model\n",
    "test_loss, test_acc = model.evaluate(validation_generator)\n",
    "print(\"Test Accuracy:\", test_acc)\n",
    "\n",
    "model.save('saved_model.h5') "
   ]
  },
  {
   "cell_type": "code",
   "execution_count": null,
   "id": "40e3047c",
   "metadata": {},
   "outputs": [],
   "source": []
  },
  {
   "cell_type": "code",
   "execution_count": null,
   "id": "b96ad79f",
   "metadata": {},
   "outputs": [],
   "source": []
  }
 ],
 "metadata": {
  "kernelspec": {
   "display_name": "Python 3 (ipykernel)",
   "language": "python",
   "name": "python3"
  },
  "language_info": {
   "codemirror_mode": {
    "name": "ipython",
    "version": 3
   },
   "file_extension": ".py",
   "mimetype": "text/x-python",
   "name": "python",
   "nbconvert_exporter": "python",
   "pygments_lexer": "ipython3",
   "version": "3.10.9"
  }
 },
 "nbformat": 4,
 "nbformat_minor": 5
}
